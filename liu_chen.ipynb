{
 "cells": [
  {
   "cell_type": "markdown",
   "metadata": {},
   "source": [
    "https://rreusser.github.io/strange-attractors/#liuchen\n",
    "\n",
    "$$\n",
    "\\dot x = .4x - yz\\\\\n",
    "\\dot y = -12y + xz\\\\\n",
    "\\dot y = -5z + xy\\\\\n",
    "$$"
   ]
  },
  {
   "cell_type": "code",
   "execution_count": 1,
   "metadata": {},
   "outputs": [],
   "source": [
    "import open3d as o3d"
   ]
  },
  {
   "cell_type": "code",
   "execution_count": 2,
   "metadata": {},
   "outputs": [],
   "source": [
    "import numpy as np\n",
    "import matplotlib.pyplot as plt"
   ]
  },
  {
   "cell_type": "code",
   "execution_count": 3,
   "metadata": {},
   "outputs": [],
   "source": [
    "from scipy.integrate import solve_ivp"
   ]
  },
  {
   "cell_type": "code",
   "execution_count": 26,
   "metadata": {},
   "outputs": [],
   "source": [
    "def dFdt(t, xyz):\n",
    "    x, y, z = xyz\n",
    "    dxdt =  .4*x - y*z\n",
    "    dydt = -12*y + x*z\n",
    "    dzdt =  -5*z + x*y\n",
    "    return [dxdt, dydt, dzdt]"
   ]
  },
  {
   "cell_type": "code",
   "execution_count": 27,
   "metadata": {},
   "outputs": [
    {
     "name": "stdout",
     "output_type": "stream",
     "text": [
      "(1415, 3)\n"
     ]
    }
   ],
   "source": [
    "t_span = (0, 120)\n",
    "xyz_zero = np.array([-1.7, -0.1, 0])\n",
    "\n",
    "sol = solve_ivp(dFdt, t_span, xyz_zero,\n",
    "                vectorized=True, dense_output=True,\n",
    "                max_step=2, method='RK23')\n",
    "xyz = sol.y.T\n",
    "\n",
    "print(xyz.shape)"
   ]
  },
  {
   "cell_type": "code",
   "execution_count": 28,
   "metadata": {},
   "outputs": [
    {
     "data": {
      "image/png": "[encoded data removed]",
      "text/plain": [
       "<Figure size 432x288 with 1 Axes>"
      ]
     },
     "metadata": {
      "needs_background": "light"
     },
     "output_type": "display_data"
    }
   ],
   "source": [
    "plt.plot(xyz[:, 0], xyz[:, 2], ',');\n",
    "plt.axis('equal'); plt.xlabel('x');\n",
    "plt.ylabel('z');"
   ]
  },
  {
   "cell_type": "code",
   "execution_count": 20,
   "metadata": {},
   "outputs": [
    {
     "data": {
      "image/png": "[encoded data removed]",
      "text/plain": [
       "<Figure size 432x288 with 1 Axes>"
      ]
     },
     "metadata": {
      "needs_background": "light"
     },
     "output_type": "display_data"
    }
   ],
   "source": [
    "plt.plot(xyz[:, 0], xyz[:, 1], ',');\n",
    "plt.axis('equal'); plt.xlabel('x');\n",
    "plt.ylabel('y');"
   ]
  },
  {
   "cell_type": "code",
   "execution_count": 32,
   "metadata": {},
   "outputs": [],
   "source": [
    "alpha = 7"
   ]
  },
  {
   "cell_type": "code",
   "execution_count": 34,
   "metadata": {},
   "outputs": [
    {
     "data": {
      "image/png": "[encoded data removed]",
      "text/plain": [
       "<Figure size 432x288 with 1 Axes>"
      ]
     },
     "metadata": {
      "needs_background": "light"
     },
     "output_type": "display_data"
    }
   ],
   "source": [
    "plt.plot(xyz[:, 1], xyz[:, 2], ',');\n",
    "#plt.plot([-10, 10], -7*np.array([-10, 10]));\n",
    "plt.axis('equal'); plt.xlabel('y');\n",
    "plt.ylabel('z');"
   ]
  },
  {
   "cell_type": "code",
   "execution_count": 35,
   "metadata": {},
   "outputs": [],
   "source": [
    "points = [[0, 0, -30], [0, 0, 30]]\n",
    "lines = [[0, 1], ]\n",
    "colors = [[1, 0, 0] for i in range(len(lines))]\n",
    "line_z = o3d.geometry.LineSet()\n",
    "line_z.points = o3d.utility.Vector3dVector(points)\n",
    "line_z.lines = o3d.utility.Vector2iVector(lines)\n",
    "line_z.colors = o3d.utility.Vector3dVector(colors)\n",
    "\n",
    "points = [[-40, 0, 0], [40, 0, 0]]\n",
    "lines = [[0, 1], ]\n",
    "colors = [[.3, .7, 1] for i in range(len(lines))]\n",
    "line_x = o3d.geometry.LineSet()\n",
    "line_x.points = o3d.utility.Vector3dVector(points)\n",
    "line_x.lines = o3d.utility.Vector2iVector(lines)\n",
    "line_x.colors = o3d.utility.Vector3dVector(colors)"
   ]
  },
  {
   "cell_type": "code",
   "execution_count": 36,
   "metadata": {},
   "outputs": [],
   "source": [
    "pcd = o3d.geometry.PointCloud()\n",
    "pcd.points = o3d.utility.Vector3dVector(xyz)"
   ]
  },
  {
   "cell_type": "code",
   "execution_count": 37,
   "metadata": {},
   "outputs": [],
   "source": [
    "o3d.visualization.draw_geometries([pcd, line_z, line_x])"
   ]
  },
  {
   "cell_type": "code",
   "execution_count": null,
   "metadata": {},
   "outputs": [],
   "source": []
  }
 ],
 "metadata": {
  "kernelspec": {
   "display_name": "global-py3",
   "language": "python",
   "name": "global-py3"
  },
  "language_info": {
   "codemirror_mode": {
    "name": "ipython",
    "version": 3
   },
   "file_extension": ".py",
   "mimetype": "text/x-python",
   "name": "python",
   "nbconvert_exporter": "python",
   "pygments_lexer": "ipython3",
   "version": "3.5.2"
  }
 },
 "nbformat": 4,
 "nbformat_minor": 2
}
